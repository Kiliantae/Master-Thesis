{
 "cells": [
  {
   "cell_type": "markdown",
   "metadata": {},
   "source": [
    "# Crop Images\n"
   ]
  },
  {
   "cell_type": "code",
   "execution_count": 1,
   "metadata": {},
   "outputs": [],
   "source": [
    "#cropp 12 images from one image \n",
    "import os\n",
    "from PIL import Image\n",
    "\n",
    "image_path = \"C:/Users/kbock/Desktop/Fracto/data/rawimg_zoom_10_20_100/zoom_100/0and1/\"\n",
    "image_path_split = \"C:/Users/kbock/Desktop/Fracto/data/rawimg_zoom_10_20_100/zoom_100/0and1_224_224(12)/\"\n",
    "\n",
    "for file in os.listdir(image_path):\n",
    "    if file.endswith(\".jpg\"):\n",
    "        new_file = image_path + file        \n",
    "        img = Image.open(new_file) #1021_771 --> 340_385\n",
    "\n",
    "        #Bild laden, zerschneiden und Teile speichern\n",
    "        \n",
    "        imgCropped1 = img.crop((0,0,223,223)) #crop the image part (x_min,y_min,x_max,y_max) 224,224\n",
    "        imgCropped2 = img.crop((0,224,223,447)) #crop the image part\n",
    "        imgCropped3 = img.crop((0,448,223,671)) #crop the image part\n",
    "        imgCropped4 = img.crop((224,0,447,223)) #crop the image part\n",
    "        imgCropped5 = img.crop((224,224,447,447)) #crop the image part\n",
    "        imgCropped6 = img.crop((224,448,447,671)) #crop the image part\n",
    "        imgCropped7 = img.crop((448,0,671,223)) #crop the image part\n",
    "        imgCropped8 = img.crop((448,224,671,447)) #crop the image part\n",
    "        imgCropped9 = img.crop((448,448,671,671)) #crop the image part\n",
    "        imgCropped10 = img.crop((672,0,895,223)) #crop the image part\n",
    "        imgCropped11 = img.crop((672,224,895,447)) #crop the image part\n",
    "        imgCropped12 = img.crop((672,448,895,671)) #crop the image part\n",
    "        \"\"\"\n",
    "        imgCropped1 = img.crop((0,0,339,384)) #crop the image part (x_min,y_min,x_max,y_max) 340_385\n",
    "        imgCropped2 = img.crop((0,385,339,769)) #crop the image part\n",
    "        imgCropped3 = img.crop((340,0,679,384)) #crop the image part\n",
    "        imgCropped4 = img.crop((340,385,679,769)) #crop the image part\n",
    "        imgCropped5 = img.crop((680,0,1019,384)) #crop the image part\n",
    "        imgCropped6 = img.crop((680,385,1019,769)) #crop the image part\n",
    "        \"\"\"\n",
    "        \n",
    "        imgCropped1.save(image_path_split+\"1\"+file) \n",
    "        imgCropped2.save(image_path_split+\"2\"+file) \n",
    "        imgCropped3.save(image_path_split+\"3\"+file) \n",
    "        imgCropped4.save(image_path_split+\"4\"+file) \n",
    "        imgCropped5.save(image_path_split+\"5\"+file) \n",
    "        imgCropped6.save(image_path_split+\"6\"+file) \n",
    "        imgCropped1.save(image_path_split+\"7\"+file) \n",
    "        imgCropped2.save(image_path_split+\"8\"+file) \n",
    "        imgCropped3.save(image_path_split+\"9\"+file) \n",
    "        imgCropped4.save(image_path_split+\"10\"+file) \n",
    "        imgCropped5.save(image_path_split+\"11\"+file) \n",
    "        imgCropped6.save(image_path_split+\"12\"+file) \n",
    "      \n",
    "        \n",
    "        img.close()\n",
    "        "
   ]
  },
  {
   "cell_type": "code",
   "execution_count": 2,
   "metadata": {},
   "outputs": [],
   "source": [
    "#create table with 12 image informations instead of 1 \n",
    "import pandas as pd\n",
    "excel_path = \"C:/Users/kbock/Desktop/Fracto/data/raw_zoom_10_20_100/Raw_data_zoom100.xlsx\"\n",
    "excel_path_224_224 = \"C:/Users/kbock/Desktop/Fracto/data/raw_zoom_10_20_100/Raw_data_zoom100_224_224(12).xlsx\"\n",
    "df = pd.read_excel(excel_path)\n",
    "newdf = pd.DataFrame(data=[])\n",
    "for img_name in df[\"Fall-Nummer\"]:\n",
    "    for i in range(1,13):\n",
    "        df2 = df[df[\"Fall-Nummer\"]==img_name].drop(columns= [\"Fall-Nummer\"])\n",
    "        df2[\"Fall-Nummer\"] = str(i)+img_name\n",
    "        newdf = newdf.append(df2, ignore_index=True)\n",
    "        \n",
    "writer = pd.ExcelWriter(excel_path_224_224)\n",
    "newdf.to_excel(writer)\n",
    "writer.save()"
   ]
  },
  {
   "cell_type": "markdown",
   "metadata": {},
   "source": [
    "# Cluster materials"
   ]
  },
  {
   "cell_type": "code",
   "execution_count": 24,
   "metadata": {},
   "outputs": [],
   "source": [
    "import pandas as pd\n",
    "Materials = 'data/Materials_properties.xlsx'\n",
    "df = pd.read_excel(Materials)\n",
    "df = df.fillna(value=0).drop([\"Werkstoff-Name\"],axis=1)"
   ]
  },
  {
   "cell_type": "code",
   "execution_count": 25,
   "metadata": {},
   "outputs": [
    {
     "name": "stdout",
     "output_type": "stream",
     "text": [
      "[t-SNE] Computing 32 nearest neighbors...\n",
      "[t-SNE] Indexed 33 samples in 0.000s...\n",
      "[t-SNE] Computed neighbors for 33 samples in 0.003s...\n",
      "[t-SNE] Computed conditional probabilities for sample 33 / 33\n",
      "[t-SNE] Mean sigma: 4.157807\n",
      "[t-SNE] KL divergence after 250 iterations with early exaggeration: 41.731464\n",
      "[t-SNE] KL divergence after 1000 iterations: -0.020853\n"
     ]
    }
   ],
   "source": [
    "from sklearn.manifold import TSNE\n",
    "import numpy as np\n",
    "n = df.values\n",
    "n= n[:-1,:]\n",
    "tsne = TSNE(n_components=2, verbose=1,learning_rate=25, perplexity=20, n_iter=1000)\n",
    "X = tsne.fit_transform(n)"
   ]
  },
  {
   "cell_type": "code",
   "execution_count": 26,
   "metadata": {},
   "outputs": [],
   "source": [
    "from sklearn.cluster import KMeans\n",
    "y_pred = KMeans(n_clusters=3, random_state=0).fit_predict(X)"
   ]
  },
  {
   "cell_type": "code",
   "execution_count": 27,
   "metadata": {},
   "outputs": [
    {
     "data": {
      "text/plain": [
       "Text(0.5, 1.0, 'Material clusters')"
      ]
     },
     "execution_count": 27,
     "metadata": {},
     "output_type": "execute_result"
    },
    {
     "data": {
      "image/png": "[encoded data removed]",
      "text/plain": [
       "<Figure size 432x288 with 1 Axes>"
      ]
     },
     "metadata": {
      "needs_background": "light"
     },
     "output_type": "display_data"
    }
   ],
   "source": [
    "import matplotlib.pyplot as plt\n",
    "plt.subplot()\n",
    "plt.scatter(X[:, 0], X[:, 1], c=y_pred)\n",
    "plt.title(\"Material clusters\")"
   ]
  },
  {
   "cell_type": "code",
   "execution_count": null,
   "metadata": {},
   "outputs": [],
   "source": [
    "writer = pd.ExcelWriter('data/Materials_properties_clust.xlsx')\n",
    "df.to_excel(writer)\n",
    "writer.save()"
   ]
  },
  {
   "cell_type": "code",
   "execution_count": 3,
   "metadata": {},
   "outputs": [],
   "source": [
    "#creating excel table with all information (including kind of fracture and cluster)\n",
    "#from Materials_properties_clust.xlsx (consists of Materials and their cluster)\n",
    "import pandas as pd\n",
    "\n",
    "Materials_cluster_path = 'C:/Users/kbock/Desktop/Fracto/data/Materials_properties_clust.xlsx'\n",
    "excel_path ='C:/Users/kbock/Desktop/Fracto/data/raw_zoom_10_20_100/Raw_data_zoom100_224_224(12).xlsx'\n",
    "excel_path_new ='C:/Users/kbock/Desktop/Fracto/data/raw_zoom_10_20_100/Raw_data_zoom100_224_224(12)_clustered.xlsx'\n",
    "df = pd.read_excel(excel_path)\n",
    "df[\"Material_cluster\"] = None\n",
    "df_clus = pd.read_excel(Materials_cluster_path)\n",
    "newdf = pd.DataFrame(data=[])\n",
    "for img_name in df[\"Fall-Nummer\"]:\n",
    "    Werkstoff_Name=df.loc[df[\"Fall-Nummer\"]==img_name,[\"Werkstoff-Name\"]].values[0][0]\n",
    "\n",
    "    df.loc[df[\"Fall-Nummer\"]==img_name,[\"Material_cluster\"]]= df_clus.loc[df_clus[\"Werkstoff-Name\"]==Werkstoff_Name][\"Material_cluster\"].to_string()[5:]\n",
    "\n",
    "\n",
    "\n",
    "writer = pd.ExcelWriter(excel_path_new)\n",
    "df.to_excel(writer)\n",
    "writer.save()"
   ]
  },
  {
   "cell_type": "markdown",
   "metadata": {},
   "source": [
    "# Extract features from images"
   ]
  },
  {
   "cell_type": "markdown",
   "metadata": {},
   "source": [
    "## Tansferlearning with VGG16"
   ]
  },
  {
   "cell_type": "code",
   "execution_count": 1,
   "metadata": {
    "scrolled": false
   },
   "outputs": [
    {
     "name": "stdout",
     "output_type": "stream",
     "text": [
      "0\n",
      "50\n",
      "100\n",
      "150\n",
      "200\n",
      "250\n",
      "300\n",
      "350\n",
      "400\n",
      "450\n",
      "500\n",
      "550\n",
      "600\n",
      "650\n",
      "700\n",
      "750\n",
      "800\n",
      "850\n",
      "900\n",
      "950\n",
      "1000\n",
      "1050\n",
      "1100\n",
      "1150\n",
      "1200\n",
      "1250\n",
      "1300\n",
      "1350\n",
      "1400\n",
      "1450\n",
      "1500\n"
     ]
    }
   ],
   "source": [
    "import pandas as pd\n",
    "import numpy as np\n",
    "import tensorflow as tf\n",
    "from keras.preprocessing.image import load_img\n",
    "from keras.preprocessing.image import img_to_array\n",
    "from keras.applications.vgg16 import preprocess_input\n",
    "from tensorflow.keras.layers import Multiply\n",
    "\n",
    "from sklearn.cluster import KMeans\n",
    "\n",
    "zoom_image_dir = \"C:/Users/kbock/Desktop/Fracto/data/rawimg_zoom_10_20_100/zoom_100/0and1_224_224(12)/\"\n",
    "excel_path = \"C:/Users/kbock/Desktop/Fracto/data/raw_zoom_10_20_100/Raw_data_zoom100_224_224(12)_clust.xlsx\"\n",
    "\n",
    "df = pd.read_excel(excel_path)#, engine='openpyxl')\n",
    "y =df[[\"Bruchart-id\"]]\n",
    "y = np.array(y)\n",
    "z =df[[\"Material_cluster\"]]\n",
    "z = np.array(z)\n",
    "X = 0\n",
    "for img_name in df[\"Fall-Nummer\"]:\n",
    "        image_path =zoom_image_dir + img_name + \".jpg\"\n",
    "        # load an image from file\n",
    "        image = load_img(image_path, target_size=(224, 224))\n",
    "        # convert the image pixels to a numpy array\n",
    "        image = img_to_array(image) \n",
    "        # reshape data for the model\n",
    "        image = image.reshape((1, image.shape[0], image.shape[1], image.shape[2]))\n",
    "        # prepare the image for the VGG model\n",
    "        image = preprocess_input(image)\n",
    "        try:\n",
    "            X = np.append(X,image,axis=0)\n",
    "        except Exception:\n",
    "            X = image"
   ]
  },
  {
   "cell_type": "code",
   "execution_count": 15,
   "metadata": {},
   "outputs": [
    {
     "name": "stdout",
     "output_type": "stream",
     "text": [
      "Model: \"functional_5\"\n",
      "_________________________________________________________________\n",
      "Layer (type)                 Output Shape              Param #   \n",
      "=================================================================\n",
      "input_3 (InputLayer)         [(None, 224, 224, 3)]     0         \n",
      "_________________________________________________________________\n",
      "block1_conv1 (Conv2D)        (None, 224, 224, 64)      1792      \n",
      "_________________________________________________________________\n",
      "block1_conv2 (Conv2D)        (None, 224, 224, 64)      36928     \n",
      "_________________________________________________________________\n",
      "block1_pool (MaxPooling2D)   (None, 112, 112, 64)      0         \n",
      "_________________________________________________________________\n",
      "block2_conv1 (Conv2D)        (None, 112, 112, 128)     73856     \n",
      "_________________________________________________________________\n",
      "block2_conv2 (Conv2D)        (None, 112, 112, 128)     147584    \n",
      "_________________________________________________________________\n",
      "block2_pool (MaxPooling2D)   (None, 56, 56, 128)       0         \n",
      "_________________________________________________________________\n",
      "block3_conv1 (Conv2D)        (None, 56, 56, 256)       295168    \n",
      "_________________________________________________________________\n",
      "block3_conv2 (Conv2D)        (None, 56, 56, 256)       590080    \n",
      "_________________________________________________________________\n",
      "block3_conv3 (Conv2D)        (None, 56, 56, 256)       590080    \n",
      "=================================================================\n",
      "Total params: 1,735,488\n",
      "Trainable params: 1,735,488\n",
      "Non-trainable params: 0\n",
      "_________________________________________________________________\n"
     ]
    },
    {
     "ename": "MemoryError",
     "evalue": "Unable to allocate 4.56 GiB for an array with shape (1524, 56, 56, 256) and data type float32",
     "output_type": "error",
     "traceback": [
      "\u001b[1;31m---------------------------------------------------------------------------\u001b[0m",
      "\u001b[1;31mMemoryError\u001b[0m                               Traceback (most recent call last)",
      "\u001b[1;32m<ipython-input-15-ad0996802908>\u001b[0m in \u001b[0;36m<module>\u001b[1;34m\u001b[0m\n\u001b[0;32m     29\u001b[0m \u001b[0mmodel2\u001b[0m\u001b[1;33m.\u001b[0m\u001b[0msummary\u001b[0m\u001b[1;33m(\u001b[0m\u001b[1;33m)\u001b[0m\u001b[1;33m\u001b[0m\u001b[1;33m\u001b[0m\u001b[0m\n\u001b[0;32m     30\u001b[0m \u001b[1;33m\u001b[0m\u001b[0m\n\u001b[1;32m---> 31\u001b[1;33m \u001b[0mX_f\u001b[0m \u001b[1;33m=\u001b[0m \u001b[0mmodel2\u001b[0m\u001b[1;33m.\u001b[0m\u001b[0mpredict\u001b[0m\u001b[1;33m(\u001b[0m\u001b[0mX\u001b[0m\u001b[1;33m)\u001b[0m\u001b[1;33m\u001b[0m\u001b[1;33m\u001b[0m\u001b[0m\n\u001b[0m\u001b[0;32m     32\u001b[0m \u001b[1;33m\u001b[0m\u001b[0m\n\u001b[0;32m     33\u001b[0m \u001b[0mX_mean_f\u001b[0m \u001b[1;33m=\u001b[0m \u001b[0mnp\u001b[0m\u001b[1;33m.\u001b[0m\u001b[0mmean\u001b[0m\u001b[1;33m(\u001b[0m\u001b[0mX_f\u001b[0m\u001b[1;33m,\u001b[0m\u001b[0maxis\u001b[0m\u001b[1;33m=\u001b[0m\u001b[1;33m(\u001b[0m\u001b[1;36m1\u001b[0m\u001b[1;33m,\u001b[0m\u001b[1;36m2\u001b[0m\u001b[1;33m)\u001b[0m\u001b[1;33m)\u001b[0m \u001b[1;31m#mean\u001b[0m\u001b[1;33m\u001b[0m\u001b[1;33m\u001b[0m\u001b[0m\n",
      "\u001b[1;32m~\\Anaconda3\\envs\\fracto\\lib\\site-packages\\tensorflow\\python\\keras\\engine\\training.py\u001b[0m in \u001b[0;36m_method_wrapper\u001b[1;34m(self, *args, **kwargs)\u001b[0m\n\u001b[0;32m    128\u001b[0m       raise ValueError('{} is not supported in multi-worker mode.'.format(\n\u001b[0;32m    129\u001b[0m           method.__name__))\n\u001b[1;32m--> 130\u001b[1;33m     \u001b[1;32mreturn\u001b[0m \u001b[0mmethod\u001b[0m\u001b[1;33m(\u001b[0m\u001b[0mself\u001b[0m\u001b[1;33m,\u001b[0m \u001b[1;33m*\u001b[0m\u001b[0margs\u001b[0m\u001b[1;33m,\u001b[0m \u001b[1;33m**\u001b[0m\u001b[0mkwargs\u001b[0m\u001b[1;33m)\u001b[0m\u001b[1;33m\u001b[0m\u001b[1;33m\u001b[0m\u001b[0m\n\u001b[0m\u001b[0;32m    131\u001b[0m \u001b[1;33m\u001b[0m\u001b[0m\n\u001b[0;32m    132\u001b[0m   return tf_decorator.make_decorator(\n",
      "\u001b[1;32m~\\Anaconda3\\envs\\fracto\\lib\\site-packages\\tensorflow\\python\\keras\\engine\\training.py\u001b[0m in \u001b[0;36mpredict\u001b[1;34m(self, x, batch_size, verbose, steps, callbacks, max_queue_size, workers, use_multiprocessing)\u001b[0m\n\u001b[0;32m   1613\u001b[0m       \u001b[0mcallbacks\u001b[0m\u001b[1;33m.\u001b[0m\u001b[0mon_predict_end\u001b[0m\u001b[1;33m(\u001b[0m\u001b[1;33m)\u001b[0m\u001b[1;33m\u001b[0m\u001b[1;33m\u001b[0m\u001b[0m\n\u001b[0;32m   1614\u001b[0m     \u001b[0mall_outputs\u001b[0m \u001b[1;33m=\u001b[0m \u001b[0mnest\u001b[0m\u001b[1;33m.\u001b[0m\u001b[0mmap_structure_up_to\u001b[0m\u001b[1;33m(\u001b[0m\u001b[0mbatch_outputs\u001b[0m\u001b[1;33m,\u001b[0m \u001b[0mconcat\u001b[0m\u001b[1;33m,\u001b[0m \u001b[0moutputs\u001b[0m\u001b[1;33m)\u001b[0m\u001b[1;33m\u001b[0m\u001b[1;33m\u001b[0m\u001b[0m\n\u001b[1;32m-> 1615\u001b[1;33m     \u001b[1;32mreturn\u001b[0m \u001b[0mtf_utils\u001b[0m\u001b[1;33m.\u001b[0m\u001b[0mto_numpy_or_python_type\u001b[0m\u001b[1;33m(\u001b[0m\u001b[0mall_outputs\u001b[0m\u001b[1;33m)\u001b[0m\u001b[1;33m\u001b[0m\u001b[1;33m\u001b[0m\u001b[0m\n\u001b[0m\u001b[0;32m   1616\u001b[0m \u001b[1;33m\u001b[0m\u001b[0m\n\u001b[0;32m   1617\u001b[0m   \u001b[1;32mdef\u001b[0m \u001b[0mreset_metrics\u001b[0m\u001b[1;33m(\u001b[0m\u001b[0mself\u001b[0m\u001b[1;33m)\u001b[0m\u001b[1;33m:\u001b[0m\u001b[1;33m\u001b[0m\u001b[1;33m\u001b[0m\u001b[0m\n",
      "\u001b[1;32m~\\Anaconda3\\envs\\fracto\\lib\\site-packages\\tensorflow\\python\\keras\\utils\\tf_utils.py\u001b[0m in \u001b[0;36mto_numpy_or_python_type\u001b[1;34m(tensors)\u001b[0m\n\u001b[0;32m    535\u001b[0m     \u001b[1;32mreturn\u001b[0m \u001b[0mt\u001b[0m  \u001b[1;31m# Don't turn ragged or sparse tensors to NumPy.\u001b[0m\u001b[1;33m\u001b[0m\u001b[1;33m\u001b[0m\u001b[0m\n\u001b[0;32m    536\u001b[0m \u001b[1;33m\u001b[0m\u001b[0m\n\u001b[1;32m--> 537\u001b[1;33m   \u001b[1;32mreturn\u001b[0m \u001b[0mnest\u001b[0m\u001b[1;33m.\u001b[0m\u001b[0mmap_structure\u001b[0m\u001b[1;33m(\u001b[0m\u001b[0m_to_single_numpy_or_python_type\u001b[0m\u001b[1;33m,\u001b[0m \u001b[0mtensors\u001b[0m\u001b[1;33m)\u001b[0m\u001b[1;33m\u001b[0m\u001b[1;33m\u001b[0m\u001b[0m\n\u001b[0m\u001b[0;32m    538\u001b[0m \u001b[1;33m\u001b[0m\u001b[0m\n\u001b[0;32m    539\u001b[0m \u001b[1;33m\u001b[0m\u001b[0m\n",
      "\u001b[1;32m~\\Anaconda3\\envs\\fracto\\lib\\site-packages\\tensorflow\\python\\util\\nest.py\u001b[0m in \u001b[0;36mmap_structure\u001b[1;34m(func, *structure, **kwargs)\u001b[0m\n\u001b[0;32m    633\u001b[0m \u001b[1;33m\u001b[0m\u001b[0m\n\u001b[0;32m    634\u001b[0m   return pack_sequence_as(\n\u001b[1;32m--> 635\u001b[1;33m       \u001b[0mstructure\u001b[0m\u001b[1;33m[\u001b[0m\u001b[1;36m0\u001b[0m\u001b[1;33m]\u001b[0m\u001b[1;33m,\u001b[0m \u001b[1;33m[\u001b[0m\u001b[0mfunc\u001b[0m\u001b[1;33m(\u001b[0m\u001b[1;33m*\u001b[0m\u001b[0mx\u001b[0m\u001b[1;33m)\u001b[0m \u001b[1;32mfor\u001b[0m \u001b[0mx\u001b[0m \u001b[1;32min\u001b[0m \u001b[0mentries\u001b[0m\u001b[1;33m]\u001b[0m\u001b[1;33m,\u001b[0m\u001b[1;33m\u001b[0m\u001b[1;33m\u001b[0m\u001b[0m\n\u001b[0m\u001b[0;32m    636\u001b[0m       expand_composites=expand_composites)\n\u001b[0;32m    637\u001b[0m \u001b[1;33m\u001b[0m\u001b[0m\n",
      "\u001b[1;32m~\\Anaconda3\\envs\\fracto\\lib\\site-packages\\tensorflow\\python\\util\\nest.py\u001b[0m in \u001b[0;36m<listcomp>\u001b[1;34m(.0)\u001b[0m\n\u001b[0;32m    633\u001b[0m \u001b[1;33m\u001b[0m\u001b[0m\n\u001b[0;32m    634\u001b[0m   return pack_sequence_as(\n\u001b[1;32m--> 635\u001b[1;33m       \u001b[0mstructure\u001b[0m\u001b[1;33m[\u001b[0m\u001b[1;36m0\u001b[0m\u001b[1;33m]\u001b[0m\u001b[1;33m,\u001b[0m \u001b[1;33m[\u001b[0m\u001b[0mfunc\u001b[0m\u001b[1;33m(\u001b[0m\u001b[1;33m*\u001b[0m\u001b[0mx\u001b[0m\u001b[1;33m)\u001b[0m \u001b[1;32mfor\u001b[0m \u001b[0mx\u001b[0m \u001b[1;32min\u001b[0m \u001b[0mentries\u001b[0m\u001b[1;33m]\u001b[0m\u001b[1;33m,\u001b[0m\u001b[1;33m\u001b[0m\u001b[1;33m\u001b[0m\u001b[0m\n\u001b[0m\u001b[0;32m    636\u001b[0m       expand_composites=expand_composites)\n\u001b[0;32m    637\u001b[0m \u001b[1;33m\u001b[0m\u001b[0m\n",
      "\u001b[1;32m~\\Anaconda3\\envs\\fracto\\lib\\site-packages\\tensorflow\\python\\keras\\utils\\tf_utils.py\u001b[0m in \u001b[0;36m_to_single_numpy_or_python_type\u001b[1;34m(t)\u001b[0m\n\u001b[0;32m    531\u001b[0m   \u001b[1;32mdef\u001b[0m \u001b[0m_to_single_numpy_or_python_type\u001b[0m\u001b[1;33m(\u001b[0m\u001b[0mt\u001b[0m\u001b[1;33m)\u001b[0m\u001b[1;33m:\u001b[0m\u001b[1;33m\u001b[0m\u001b[1;33m\u001b[0m\u001b[0m\n\u001b[0;32m    532\u001b[0m     \u001b[1;32mif\u001b[0m \u001b[0misinstance\u001b[0m\u001b[1;33m(\u001b[0m\u001b[0mt\u001b[0m\u001b[1;33m,\u001b[0m \u001b[0mops\u001b[0m\u001b[1;33m.\u001b[0m\u001b[0mTensor\u001b[0m\u001b[1;33m)\u001b[0m\u001b[1;33m:\u001b[0m\u001b[1;33m\u001b[0m\u001b[1;33m\u001b[0m\u001b[0m\n\u001b[1;32m--> 533\u001b[1;33m       \u001b[0mx\u001b[0m \u001b[1;33m=\u001b[0m \u001b[0mt\u001b[0m\u001b[1;33m.\u001b[0m\u001b[0mnumpy\u001b[0m\u001b[1;33m(\u001b[0m\u001b[1;33m)\u001b[0m\u001b[1;33m\u001b[0m\u001b[1;33m\u001b[0m\u001b[0m\n\u001b[0m\u001b[0;32m    534\u001b[0m       \u001b[1;32mreturn\u001b[0m \u001b[0mx\u001b[0m\u001b[1;33m.\u001b[0m\u001b[0mitem\u001b[0m\u001b[1;33m(\u001b[0m\u001b[1;33m)\u001b[0m \u001b[1;32mif\u001b[0m \u001b[0mnp\u001b[0m\u001b[1;33m.\u001b[0m\u001b[0mndim\u001b[0m\u001b[1;33m(\u001b[0m\u001b[0mx\u001b[0m\u001b[1;33m)\u001b[0m \u001b[1;33m==\u001b[0m \u001b[1;36m0\u001b[0m \u001b[1;32melse\u001b[0m \u001b[0mx\u001b[0m\u001b[1;33m\u001b[0m\u001b[1;33m\u001b[0m\u001b[0m\n\u001b[0;32m    535\u001b[0m     \u001b[1;32mreturn\u001b[0m \u001b[0mt\u001b[0m  \u001b[1;31m# Don't turn ragged or sparse tensors to NumPy.\u001b[0m\u001b[1;33m\u001b[0m\u001b[1;33m\u001b[0m\u001b[0m\n",
      "\u001b[1;32m~\\Anaconda3\\envs\\fracto\\lib\\site-packages\\tensorflow\\python\\framework\\ops.py\u001b[0m in \u001b[0;36mnumpy\u001b[1;34m(self)\u001b[0m\n\u001b[0;32m   1062\u001b[0m     \u001b[1;31m# TODO(slebedev): Consider avoiding a copy for non-CPU or remote tensors.\u001b[0m\u001b[1;33m\u001b[0m\u001b[1;33m\u001b[0m\u001b[1;33m\u001b[0m\u001b[0m\n\u001b[0;32m   1063\u001b[0m     \u001b[0mmaybe_arr\u001b[0m \u001b[1;33m=\u001b[0m \u001b[0mself\u001b[0m\u001b[1;33m.\u001b[0m\u001b[0m_numpy\u001b[0m\u001b[1;33m(\u001b[0m\u001b[1;33m)\u001b[0m  \u001b[1;31m# pylint: disable=protected-access\u001b[0m\u001b[1;33m\u001b[0m\u001b[1;33m\u001b[0m\u001b[0m\n\u001b[1;32m-> 1064\u001b[1;33m     \u001b[1;32mreturn\u001b[0m \u001b[0mmaybe_arr\u001b[0m\u001b[1;33m.\u001b[0m\u001b[0mcopy\u001b[0m\u001b[1;33m(\u001b[0m\u001b[1;33m)\u001b[0m \u001b[1;32mif\u001b[0m \u001b[0misinstance\u001b[0m\u001b[1;33m(\u001b[0m\u001b[0mmaybe_arr\u001b[0m\u001b[1;33m,\u001b[0m \u001b[0mnp\u001b[0m\u001b[1;33m.\u001b[0m\u001b[0mndarray\u001b[0m\u001b[1;33m)\u001b[0m \u001b[1;32melse\u001b[0m \u001b[0mmaybe_arr\u001b[0m\u001b[1;33m\u001b[0m\u001b[1;33m\u001b[0m\u001b[0m\n\u001b[0m\u001b[0;32m   1065\u001b[0m \u001b[1;33m\u001b[0m\u001b[0m\n\u001b[0;32m   1066\u001b[0m   \u001b[1;33m@\u001b[0m\u001b[0mproperty\u001b[0m\u001b[1;33m\u001b[0m\u001b[1;33m\u001b[0m\u001b[0m\n",
      "\u001b[1;31mMemoryError\u001b[0m: Unable to allocate 4.56 GiB for an array with shape (1524, 56, 56, 256) and data type float32"
     ]
    }
   ],
   "source": [
    "from keras.applications.vgg16 import VGG16\n",
    "from keras.models import Model\n",
    "\n",
    "model = VGG16()\n",
    "#model2 = Model(model.input, model.layers[-6].output) #conv5.3 mean  #bacc=0.763 #224_224 0,805 #340_385 0,83 # 0,83\n",
    "#model2 = Model(model.input, model.layers[-10].output) #conv4.3 mean  #bacc=0.678 # 0,866 #0,866 #0,85\n",
    "model2 = Model(model.input, model.layers[-14].output) #conv3.3 mean #bacc ##0,882 #0,84\n",
    "#model2 = Model(model.input, model.layers[-18].output) #conv2.2 mean  #bacc=0.636 ###0,8\n",
    "#model2 = Model(model.input, model.layers[-21].output) #conv1.2 mean  #bacc=0.593\n",
    "model2.summary()\n",
    "\n",
    "X_f = model2.predict(X)\n",
    "X_mean_f = np.mean(X_f,axis=(1,2)) #mean\n",
    "#X_max_f = np.amax(X_f,axis=(1,2)) #max\n",
    "#import tensorflow as tf\n",
    "#def gram_matrix(input_tensor):\n",
    "#    result = tf.linalg.einsum('bijc,bijd->bcd', input_tensor, input_tensor)\n",
    "#    input_shape = tf.shape(input_tensor)\n",
    "#    num_locations = tf.cast(input_shape[1]*input_shape[2], tf.float32)\n",
    "#    return result/(num_locations)\n",
    "#X_gram_f = np.reshape(gram_matrix(X_f),[len(y),-1]) #gram matrix"
   ]
  },
  {
   "cell_type": "markdown",
   "metadata": {},
   "source": [
    "## LBP"
   ]
  },
  {
   "cell_type": "code",
   "execution_count": 17,
   "metadata": {},
   "outputs": [],
   "source": [
    "from PIL import Image\n",
    "import cv2\n",
    "import os\n",
    "from skimage import feature\n",
    "import numpy as np\n",
    "from skimage import io, color, img_as_ubyte\n",
    "import mahotas as mt\n",
    "\n",
    "class LocalBinaryPatterns:\n",
    "    def __init__(self, numPoints, radius):\n",
    "        # store the number of points and radius\n",
    "        self.numPoints = numPoints\n",
    "        self.radius = radius\n",
    "    def describe(self, image, eps=1e-7):\n",
    "        # compute the Local Binary Pattern representation\n",
    "        # of the image, and then use the LBP representation\n",
    "        # to build the histogram of patterns\n",
    "        lbp = feature.local_binary_pattern(image, self.numPoints, #lbp image\n",
    "            self.radius, method=\"uniform\")\n",
    "        (hist, _) = np.histogram(lbp.ravel(),\n",
    "            bins=np.arange(0, self.numPoints + 3),\n",
    "            range=(0, self.numPoints + 2))\n",
    "        # normalize the histogram\n",
    "        hist = hist.astype(\"float\")\n",
    "        hist /= (hist.sum() + eps)\n",
    "        # return the histogram of Local Binary Patterns\n",
    "        return hist, lbp\n",
    "    \n",
    "def LBP(image_dir_or_path, image_dir_lbp=None):\n",
    "    desc= LocalBinaryPatterns(24,3)\n",
    "    #for file in os.listdir(image_dir):\n",
    "    #img = cv2.imread(image_dir+\"/\"+file,cv2.IMREAD_GRAYSCALE)\n",
    "    img = cv2.imread(image_dir_or_path,cv2.IMREAD_GRAYSCALE)\n",
    "    hist, img_lbp = desc.describe(image=img)\n",
    "        #img_lbp = Image.fromarray(img_lbp, 'L')\n",
    "        #img_lbp.save(image_dir_lbp+\"/\"+file)\n",
    "    return hist"
   ]
  },
  {
   "cell_type": "code",
   "execution_count": 18,
   "metadata": {},
   "outputs": [
    {
     "name": "stdout",
     "output_type": "stream",
     "text": [
      "100\n",
      "200\n",
      "300\n",
      "400\n",
      "500\n",
      "600\n",
      "700\n",
      "800\n",
      "900\n",
      "1000\n",
      "1100\n",
      "1200\n",
      "1300\n",
      "1400\n",
      "100\n",
      "200\n",
      "300\n",
      "400\n",
      "500\n",
      "600\n",
      "700\n",
      "800\n",
      "900\n",
      "1000\n",
      "1100\n",
      "1200\n",
      "1300\n",
      "1400\n",
      "1500\n",
      "1600\n",
      "1700\n",
      "1800\n",
      "100\n",
      "200\n",
      "300\n",
      "400\n",
      "500\n",
      "600\n",
      "700\n",
      "800\n",
      "900\n",
      "1000\n",
      "1100\n",
      "1200\n",
      "1300\n",
      "1400\n",
      "1500\n"
     ]
    }
   ],
   "source": [
    "import pandas as pd\n",
    "import numpy as np\n",
    "from PIL import Image\n",
    "import os\n",
    "from sklearn.preprocessing import StandardScaler\n",
    "\n",
    "\n",
    "table_dir=\"C:/Users/kbock/Desktop/Fracto/data/raw_zoom_10_20_100/\"\n",
    "image_dir= \"C:/Users/kbock/Desktop/Fracto/data/rawimg_zoom_10_20_100/\"\n",
    "extracted_features_dir= \"C:/Users/kbock/Desktop/Fracto/data/extracted_features_zoom_10_20_100/\"\n",
    "zoom =[10,20,100]\n",
    "for z in zoom:\n",
    "    zoom_table_path = os.path.join(table_dir +\"Raw_data_zoom{}_224_224(12)_clust.xlsx\".format(z))\n",
    "    zoom_image_dir = image_dir + \"zoom_{}/\".format(z) + \"0and1_224_224(12)/\"\n",
    "    df = pd.read_excel(zoom_table_path)#, engine='openpyxl')\n",
    "    train_features = []\n",
    "\n",
    "    for img_name in df[\"Fall-Nummer\"]:\n",
    "        image_path =zoom_image_dir + img_name + \".jpg\"\n",
    "        #calculate features\n",
    "        features = LBP(image_path)\n",
    "        # append the feature vector and label\n",
    "        train_features.append(features)\n",
    "\n",
    "    scaler = StandardScaler() \n",
    "    train_features= np.asarray(train_features)\n",
    "    train_features = scaler.fit_transform(train_features)   \n",
    "    table = pd.DataFrame(data=train_features)      \n",
    "    table.to_csv(index=False, path_or_buf = extracted_features_dir+ \"{}zoom_224_224(12)_clust/\".format(z)+'{}zoom_LBP_hist.csv'.format(z))"
   ]
  },
  {
   "cell_type": "markdown",
   "metadata": {},
   "source": [
    "## GLCM with haralick features"
   ]
  },
  {
   "cell_type": "code",
   "execution_count": 2,
   "metadata": {},
   "outputs": [],
   "source": [
    "from PIL import Image\n",
    "import cv2\n",
    "import os\n",
    "from skimage import feature\n",
    "import numpy as np\n",
    "from skimage import io, color, img_as_ubyte\n",
    "import mahotas as mt\n",
    "\n",
    "        \n",
    "\n",
    "def extract_haralick_features_from_glcm(image_path):\n",
    "        #calculate haralick texture features for 4 types of adjacency (glcm)\n",
    "        img = cv2.imread(image_path,cv2.IMREAD_GRAYSCALE)\n",
    "        #convert the image to grayscale\n",
    "        #gray = cv2.cvtColor(image, cv2.COLOR_BGR2GRAY)\n",
    "        textures = mt.features.haralick(img)\n",
    "        # take the mean and max of it and return it\n",
    "        ht_mean = textures.mean(axis=0)\n",
    "        ht_range = textures.max(axis=0) -textures.min(axis=0)\n",
    "        ht = np.concatenate((ht_mean,ht_range),axis =None)\n",
    "        return ht\n",
    "\n"
   ]
  },
  {
   "cell_type": "code",
   "execution_count": 3,
   "metadata": {
    "scrolled": false
   },
   "outputs": [
    {
     "name": "stdout",
     "output_type": "stream",
     "text": [
      "100\n",
      "200\n",
      "300\n",
      "400\n",
      "500\n",
      "600\n",
      "700\n",
      "800\n",
      "900\n",
      "1000\n",
      "1100\n",
      "1200\n",
      "1300\n",
      "1400\n",
      "100\n",
      "200\n",
      "300\n",
      "400\n",
      "500\n",
      "600\n",
      "700\n",
      "800\n",
      "900\n",
      "1000\n",
      "1100\n",
      "1200\n",
      "1300\n",
      "1400\n",
      "1500\n",
      "1600\n",
      "1700\n",
      "1800\n",
      "100\n",
      "200\n",
      "300\n",
      "400\n",
      "500\n",
      "600\n",
      "700\n",
      "800\n",
      "900\n",
      "1000\n",
      "1100\n",
      "1200\n",
      "1300\n",
      "1400\n",
      "1500\n"
     ]
    }
   ],
   "source": [
    "import pandas as pd\n",
    "import numpy as np\n",
    "from PIL import Image\n",
    "import os\n",
    "from sklearn.preprocessing import StandardScaler\n",
    "\n",
    "\n",
    "table_dir=\"C:/Users/kbock/Desktop/Fracto/data/raw_zoom_10_20_100/\"\n",
    "image_dir= \"C:/Users/kbock/Desktop/Fracto/data/rawimg_zoom_10_20_100/\"\n",
    "extracted_features_dir= \"C:/Users/kbock/Desktop/Fracto/data/extracted_features_zoom_10_20_100/\"\n",
    "zoom =[10,20,100]\n",
    "for z in zoom:\n",
    "    zoom_table_path = os.path.join(table_dir +\"Raw_data_zoom{}_224_224(12)_clust.xlsx\".format(z))\n",
    "    zoom_image_dir = image_dir + \"zoom_{}/\".format(z) + \"0and1_224_224(12)/\"\n",
    "    df = pd.read_excel(zoom_table_path)#, engine='openpyxl')\n",
    "    train_features = []\n",
    "\n",
    "    for img_name in df[\"Fall-Nummer\"]:\n",
    "        image_path =zoom_image_dir + img_name + \".jpg\"\n",
    "        #calculate features\n",
    "        features = extract_haralick_features_from_glcm(image_path)\n",
    "        # append the feature vector and label\n",
    "        train_features.append(features)\n",
    "\n",
    "    scaler = StandardScaler() \n",
    "    train_features= np.asarray(train_features)\n",
    "    train_features = scaler.fit_transform(train_features)\n",
    "    \n",
    "    table = pd.DataFrame(data=train_features)      \n",
    "    #writer = pd.ExcelWriter(extracted_features_dir+ \"{}zoom_224_224(12)_clust/\".format(z)+'{a}zoom_GLCMharalickmeanandrang.xlsx'.format(a=z))\n",
    "    #table.to_excel(writer)\n",
    "    #writer.save()\n",
    "    table.to_csv(index=False, path_or_buf = extracted_features_dir+ \"{}zoom_224_224(12)_clust/\".format(z)+'{}zoom_GLCMharalickmeanandrang.csv'.format(z)) "
   ]
  },
  {
   "cell_type": "markdown",
   "metadata": {},
   "source": [
    "## Standardize features"
   ]
  },
  {
   "cell_type": "code",
   "execution_count": null,
   "metadata": {},
   "outputs": [],
   "source": [
    "import pandas as pd\n",
    "from sklearn.preprocessing import StandardScaler\n",
    "scaler = StandardScaler() \n",
    "X_mean_f = scaler.fit_transform(X_mean_f)"
   ]
  },
  {
   "cell_type": "markdown",
   "metadata": {},
   "source": [
    "## Save features"
   ]
  },
  {
   "cell_type": "code",
   "execution_count": 21,
   "metadata": {},
   "outputs": [],
   "source": [
    "p= 20\n",
    "excel_path = \"C:/Users/kbock/Desktop/Fracto/data/raw_zoom_10_20_100/Raw_data_zoom{}_224_224(12)_clust.xlsx\".format(p)\n",
    "df = pd.read_excel(excel_path)#, engine='openpyxl')\n",
    "#y =df[[\"Bruchart-id\"]]\n",
    "#z =df[[\"Material_cluster\"]]\n",
    "path= \"C:/Users/kbock/Desktop/Fracto/data/extracted_features_zoom_10_20_100/\" + \"{}zoom_224_224(12)_clust/\".format(p) +'{}zoom_LBP_hist.csv'.format(p)\n",
    "table = pd.read_csv(path)\n",
    "#save image features in csv file\n",
    "#table = pd.DataFrame(data=X_mean_f)  \n",
    "df_new = pd.concat([df[[\"Bruchart-id\"]],df[[\"Material_cluster\"]],table], axis=1)\n",
    "\n",
    "df_new.to_csv(index=False, path_or_buf =\"C:/Users/kbock/Desktop/Fracto/data/extracted_features_zoom_10_20_100/\"+ \"{}zoom_224_224(12)_clust/\".format(p)+'{}zoom_LBP_hist.csv'.format(p)) "
   ]
  },
  {
   "cell_type": "markdown",
   "metadata": {},
   "source": [
    "# Model performance on whole dataset"
   ]
  },
  {
   "cell_type": "code",
   "execution_count": 40,
   "metadata": {},
   "outputs": [],
   "source": [
    "from sklearn.ensemble import RandomForestClassifier\n",
    "from sklearn.gaussian_process import GaussianProcessClassifier\n",
    "from sklearn.neural_network import MLPClassifier\n",
    "from sklearn.gaussian_process.kernels import DotProduct, WhiteKernel, RBF\n",
    "from sklearn.metrics import balanced_accuracy_score\n",
    "from sklearn.metrics import f1_score\n",
    "\n",
    "model = MLPClassifier( alpha=1e-5, random_state=1,max_iter=100,solver=\"sgd\")\n",
    "#model = RandomForestClassifier()"
   ]
  },
  {
   "cell_type": "code",
   "execution_count": 33,
   "metadata": {},
   "outputs": [
    {
     "data": {
      "text/plain": [
       "MLPClassifier(alpha=1e-05, max_iter=10000, random_state=1, solver='lbfgs')"
      ]
     },
     "execution_count": 33,
     "metadata": {},
     "output_type": "execute_result"
    }
   ],
   "source": [
    "model"
   ]
  },
  {
   "cell_type": "code",
   "execution_count": 41,
   "metadata": {
    "scrolled": false
   },
   "outputs": [
    {
     "name": "stderr",
     "output_type": "stream",
     "text": [
      "C:\\Users\\kbock\\Anaconda3\\envs\\fracto\\lib\\site-packages\\sklearn\\neural_network\\_multilayer_perceptron.py:582: ConvergenceWarning: Stochastic Optimizer: Maximum iterations (100) reached and the optimization hasn't converged yet.\n",
      "  warnings.warn(\n",
      "C:\\Users\\kbock\\Anaconda3\\envs\\fracto\\lib\\site-packages\\sklearn\\neural_network\\_multilayer_perceptron.py:582: ConvergenceWarning: Stochastic Optimizer: Maximum iterations (100) reached and the optimization hasn't converged yet.\n",
      "  warnings.warn(\n",
      "C:\\Users\\kbock\\Anaconda3\\envs\\fracto\\lib\\site-packages\\sklearn\\neural_network\\_multilayer_perceptron.py:582: ConvergenceWarning: Stochastic Optimizer: Maximum iterations (100) reached and the optimization hasn't converged yet.\n",
      "  warnings.warn(\n",
      "C:\\Users\\kbock\\Anaconda3\\envs\\fracto\\lib\\site-packages\\sklearn\\neural_network\\_multilayer_perceptron.py:582: ConvergenceWarning: Stochastic Optimizer: Maximum iterations (100) reached and the optimization hasn't converged yet.\n",
      "  warnings.warn(\n",
      "C:\\Users\\kbock\\Anaconda3\\envs\\fracto\\lib\\site-packages\\sklearn\\metrics\\_classification.py:1814: UserWarning: y_pred contains classes not in y_true\n",
      "  warnings.warn('y_pred contains classes not in y_true')\n",
      "C:\\Users\\kbock\\Anaconda3\\envs\\fracto\\lib\\site-packages\\sklearn\\neural_network\\_multilayer_perceptron.py:582: ConvergenceWarning: Stochastic Optimizer: Maximum iterations (100) reached and the optimization hasn't converged yet.\n",
      "  warnings.warn(\n",
      "C:\\Users\\kbock\\Anaconda3\\envs\\fracto\\lib\\site-packages\\sklearn\\neural_network\\_multilayer_perceptron.py:582: ConvergenceWarning: Stochastic Optimizer: Maximum iterations (100) reached and the optimization hasn't converged yet.\n",
      "  warnings.warn(\n",
      "C:\\Users\\kbock\\Anaconda3\\envs\\fracto\\lib\\site-packages\\sklearn\\neural_network\\_multilayer_perceptron.py:582: ConvergenceWarning: Stochastic Optimizer: Maximum iterations (100) reached and the optimization hasn't converged yet.\n",
      "  warnings.warn(\n",
      "C:\\Users\\kbock\\Anaconda3\\envs\\fracto\\lib\\site-packages\\sklearn\\neural_network\\_multilayer_perceptron.py:582: ConvergenceWarning: Stochastic Optimizer: Maximum iterations (100) reached and the optimization hasn't converged yet.\n",
      "  warnings.warn(\n",
      "C:\\Users\\kbock\\Anaconda3\\envs\\fracto\\lib\\site-packages\\sklearn\\metrics\\_classification.py:1814: UserWarning: y_pred contains classes not in y_true\n",
      "  warnings.warn('y_pred contains classes not in y_true')\n",
      "C:\\Users\\kbock\\Anaconda3\\envs\\fracto\\lib\\site-packages\\sklearn\\neural_network\\_multilayer_perceptron.py:582: ConvergenceWarning: Stochastic Optimizer: Maximum iterations (100) reached and the optimization hasn't converged yet.\n",
      "  warnings.warn(\n",
      "C:\\Users\\kbock\\Anaconda3\\envs\\fracto\\lib\\site-packages\\sklearn\\neural_network\\_multilayer_perceptron.py:582: ConvergenceWarning: Stochastic Optimizer: Maximum iterations (100) reached and the optimization hasn't converged yet.\n",
      "  warnings.warn(\n",
      "C:\\Users\\kbock\\Anaconda3\\envs\\fracto\\lib\\site-packages\\sklearn\\neural_network\\_multilayer_perceptron.py:582: ConvergenceWarning: Stochastic Optimizer: Maximum iterations (100) reached and the optimization hasn't converged yet.\n",
      "  warnings.warn(\n"
     ]
    },
    {
     "name": "stdout",
     "output_type": "stream",
     "text": [
      "############################\n",
      "endtime-starttime:  14.352745056152344\n",
      "100zoom_VGG16_conv33_mean_standardized.csv\n",
      "bacc = 0.84\n",
      "f1 = 0.8\n",
      "bacc_cluster = 0.76\n",
      "f1_cluster macro = 0.66\n",
      "f1_cluster weighted = 0.85\n"
     ]
    },
    {
     "name": "stderr",
     "output_type": "stream",
     "text": [
      "C:\\Users\\kbock\\Anaconda3\\envs\\fracto\\lib\\site-packages\\sklearn\\neural_network\\_multilayer_perceptron.py:582: ConvergenceWarning: Stochastic Optimizer: Maximum iterations (100) reached and the optimization hasn't converged yet.\n",
      "  warnings.warn(\n"
     ]
    }
   ],
   "source": [
    "magnify= [100]\n",
    "\n",
    "import pandas as pd\n",
    "import numpy as np\n",
    "import time\n",
    "import numpy as np\n",
    "from sklearn.model_selection import KFold\n",
    "def Average(lst):\n",
    "    return sum(lst) / len(lst)\n",
    "\n",
    "kf = KFold(n_splits=6, random_state=0, shuffle=True)\n",
    "#data = [\"zoom_VGG16_conv33_mean_standardized.csv\"]\n",
    "data= [\"zoom_VGG16_conv33_mean_standardized.csv\"]\n",
    "[#\"zoom_LBP_hist.csv\",\n",
    "       #\"zoom_GLCMharalickmeanandrang.csv\" ,\n",
    "       #\"zoom_VGG16_conv33_mean_standardized.csv\",\n",
    "       #\"zoom_VGG16_conv43_mean_standardized.csv\",\n",
    "       #\"zoom_VGG16_conv53_mean_standardized.csv\"\n",
    "      ]\n",
    "for p in magnify:\n",
    "    for d in data:\n",
    "        df = pd.read_csv(\"C:/Users/kbock/Desktop/Arbeitsordner/data/processed_data/\"+ \"{}zoom_224_224(12)_clust/\".format(p)+'{}{}'.format(p,d))\n",
    "        y =df[[\"Bruchart-id\"]]\n",
    "        y = np.array(y)\n",
    "        z =df[[\"Material_cluster\"]]\n",
    "        z = np.array(z)\n",
    "        X = df.drop([\"Bruchart-id\",\"Material_cluster\"], axis=1).to_numpy()\n",
    "\n",
    "        bacc = []\n",
    "        bacc_cluster = []\n",
    "        f1 = []\n",
    "        f1_cluster_macro = []\n",
    "        f1_cluster_weighted = []\n",
    "        starttime = time.time()\n",
    "        X_split = np.arange(len(X)/12)\n",
    "        for train_index, test_index in kf.split(X_split):\n",
    "            train_index = np.multiply(train_index,12)\n",
    "            app= []\n",
    "            for t in train_index:\n",
    "                app.append(t+1)\n",
    "                app.append(t+2)\n",
    "                app.append(t+3)\n",
    "                app.append(t+4)\n",
    "                app.append(t+5)\n",
    "                app.append(t+6)\n",
    "                app.append(t+7)\n",
    "                app.append(t+8)\n",
    "                app.append(t+9)\n",
    "                app.append(t+10)\n",
    "                app.append(t+11)\n",
    "            train_index = np.append(train_index,app)\n",
    "            test_index = np.multiply(test_index,12)\n",
    "            app= []\n",
    "            for t in test_index:\n",
    "                app.append(t+1)\n",
    "                app.append(t+2)\n",
    "                app.append(t+3)\n",
    "                app.append(t+4)\n",
    "                app.append(t+5)\n",
    "                app.append(t+6)\n",
    "                app.append(t+7)\n",
    "                app.append(t+8)\n",
    "                app.append(t+9)\n",
    "                app.append(t+10)\n",
    "                app.append(t+11)\n",
    "            test_index = np.append(test_index,app)\n",
    "            \n",
    "            X_train, X_test = X[train_index], X[test_index]\n",
    "            y_train, y_test = y[train_index], y[test_index]\n",
    "            z_train, z_test = z[train_index], z[test_index]\n",
    "            y_train = np.ravel(y_train)\n",
    "            z_train = np.ravel(z_train)\n",
    "            y_test = np.ravel(y_test)\n",
    "            z_test = np.ravel(z_test)\n",
    "\n",
    "            model.fit(X_train, y_train)#, sample_weight=None)\n",
    "            ypred = model.predict(X_test)\n",
    "            bacc.append(balanced_accuracy_score(y_test,ypred))\n",
    "            f1.append(f1_score(y_test,ypred))\n",
    "\n",
    "            model.fit(X_train, z_train)#, sample_weight=None)\n",
    "            zpred = model.predict(X_test)\n",
    "            bacc_cluster.append(balanced_accuracy_score(z_test,zpred))\n",
    "            f1_cluster_macro.append(f1_score(z_test,zpred,average='macro'))\n",
    "            f1_cluster_weighted.append(f1_score(z_test,zpred,average='weighted'))\n",
    "            \n",
    "        endtime = time.time()\n",
    "        print(\"############################\")\n",
    "        print(\"endtime-starttime: \", endtime-starttime)\n",
    "        print(\"{}{}\".format(p,d))\n",
    "        print(\"bacc =\", round(Average(bacc), 2))\n",
    "        print(\"f1 =\", round(Average(f1), 2))\n",
    "        print(\"bacc_cluster =\", round(Average(bacc_cluster), 2))\n",
    "        print(\"f1_cluster macro =\", round(Average(f1_cluster_macro), 2))\n",
    "        print(\"f1_cluster weighted =\", round(Average(f1_cluster_weighted), 2))"
   ]
  },
  {
   "cell_type": "code",
   "execution_count": null,
   "metadata": {},
   "outputs": [],
   "source": []
  }
 ],
 "metadata": {
  "kernelspec": {
   "display_name": "Python 3",
   "language": "python",
   "name": "python3"
  },
  "language_info": {
   "codemirror_mode": {
    "name": "ipython",
    "version": 3
   },
   "file_extension": ".py",
   "mimetype": "text/x-python",
   "name": "python",
   "nbconvert_exporter": "python",
   "pygments_lexer": "ipython3",
   "version": "3.8.5"
  }
 },
 "nbformat": 4,
 "nbformat_minor": 4
}
